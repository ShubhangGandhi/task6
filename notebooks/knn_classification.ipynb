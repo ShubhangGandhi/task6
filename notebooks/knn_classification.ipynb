# %% [markdown]
# # Task 6: K-Nearest Neighbors (KNN) Classification
# ## Iris Dataset Classification

# %% [markdown]
# ### 1. Import Libraries
# %%
import numpy as np
import pandas as pd
import matplotlib.pyplot as plt
from sklearn.model_selection import train_test_split
from sklearn.neighbors import KNeighborsClassifier
from sklearn.preprocessing import StandardScaler
from sklearn.metrics import (accuracy_score, confusion_matrix, 
                            classification_report, ConfusionMatrixDisplay)
from mlxtend.plotting import plot_decision_regions

# %% [markdown]
# ### 2. Load and Explore Data
# %%
# Load dataset
url = "https://archive.ics.uci.edu/ml/machine-learning-databases/iris/iris.data"
cols = ['sepal_length', 'sepal_width', 'petal_length', 'petal_width', 'class']
df = pd.read_csv(url, names=cols)

# Display info
print("Dataset shape:", df.shape)
display(df.head())
print("\nClass distribution:")
display(df['class'].value_counts())

# %% [markdown]
# ### 3. Preprocessing
# %%
# Encode labels
df['class'] = df['class'].astype('category').cat.codes

# Split features and target
X = df.iloc[:, :-1].values
y = df.iloc[:, -1].values

# Normalize features
scaler = StandardScaler()
X_scaled = scaler.fit_transform(X)

# Train-test split
X_train, X_test, y_train, y_test = train_test_split(X_scaled, y, test_size=0.3, random_state=42)

# %% [markdown]
# ### 4. Model Training & Evaluation
# %%
# Initialize KNN
knn = KNeighborsClassifier(n_neighbors=5)
knn.fit(X_train, y_train)

# Predictions
y_pred = knn.predict(X_test)

# Evaluation
print("Accuracy:", accuracy_score(y_test, y_pred))
print("\nClassification Report:")
print(classification_report(y_test, y_pred))

# Confusion Matrix
cm = confusion_matrix(y_test, y_pred)
disp = ConfusionMatrixDisplay(confusion_matrix=cm, display_labels=['Setosa', 'Versicolor', 'Virginica'])
disp.plot(cmap='Blues')
plt.title('Confusion Matrix (K=5)')
plt.savefig('images/confusion_matrix.png')
plt.show()

# %% [markdown]
# ### 5. Finding Optimal K
# %%
# Test K values from 1 to 20
k_values = range(1, 21)
accuracies = []

for k in k_values:
    knn = KNeighborsClassifier(n_neighbors=k)
    knn.fit(X_train, y_train)
    accuracies.append(knn.score(X_test, y_test))

# Plot accuracy vs K
plt.figure(figsize=(10,6))
plt.plot(k_values,
